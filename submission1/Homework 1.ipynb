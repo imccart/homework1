{
 "cells": [
  {
   "cell_type": "markdown",
   "metadata": {},
   "source": [
    "**Research Methods, Spring 2025**\n",
    "\n",
    "**Author**: Pablo Estrada\n",
    "\n",
    "The answers to the homework questions using `Python` are described below. Note that I follow closely the analysis from professor McCarthy and his `R` script. My analysis file is also available in the analysis folder."
   ]
  },
  {
   "cell_type": "code",
   "execution_count": 1,
   "metadata": {},
   "outputs": [],
   "source": [
    "# Importing the libraries\n",
    "import pandas as pd\n",
    "from IPython.display import Markdown, display\n",
    "import warnings\n",
    "warnings.simplefilter('ignore')\n",
    "\n",
    "# To run in the terminal:\n",
    "# python submission1/data-code/_BuildFinalData.py\n",
    "\n",
    "# Read output datasets\n",
    "full_ma_data = pd.read_csv('../data/output/full_ma_data.csv')\n",
    "contract_service_area = pd.read_csv('../data/output/contract_service_area.csv')"
   ]
  },
  {
   "cell_type": "markdown",
   "metadata": {},
   "source": [
    "**1. Provide a table of the count of plans under each plan type.**"
   ]
  },
  {
   "cell_type": "code",
   "execution_count": null,
   "metadata": {},
   "outputs": [
    {
     "data": {
      "text/markdown": [
       "| Plan Type                               |   2015 |\n",
       "|:----------------------------------------|-------:|\n",
       "| Medicare Prescription Drug Plan         | 991457 |\n",
       "| Local PPO                               | 704993 |\n",
       "| HMO/HMOPOS                              | 479275 |\n",
       "| Employer/Union Only Direct Contract PDP |  25630 |\n",
       "| Regional PPO                            |  17578 |\n",
       "| PFFS                                    |  13658 |\n",
       "| 1876 Cost                               |   7157 |\n",
       "| MSA                                     |   6518 |\n",
       "| Medicare-Medicaid Plan HMO/HMOPOS       |   4130 |\n",
       "| National PACE                           |   1216 |"
      ],
      "text/plain": [
       "<IPython.core.display.Markdown object>"
      ]
     },
     "metadata": {},
     "output_type": "display_data"
    }
   ],
   "source": [
    "# Pivot table to get the number of plans per type and year\n",
    "plans_per_type = full_ma_data.pivot_table(index='plan_type', columns='year', values='planid', aggfunc='count')\n",
    "# Change the name of the index\n",
    "plans_per_type.index.name = 'Plan Type'\n",
    "# Sort values\n",
    "plans_per_type = plans_per_type.sort_values(by=2015, ascending=False)\n",
    "# Display the table\n",
    "display(Markdown(plans_per_type.to_markdown()))"
   ]
  },
  {
   "cell_type": "markdown",
   "metadata": {},
   "source": [
    "\\newpage\n",
    "\n",
    "**2. Remove all special needs plans (SNP), employer group plans (eghp), and all \"800-series\" plans.**\n",
    "\n",
    "Provide an updated table after making these exclusions."
   ]
  },
  {
   "cell_type": "code",
   "execution_count": null,
   "metadata": {},
   "outputs": [
    {
     "data": {
      "text/markdown": [
       "| Plan Type                         |   2015 |\n",
       "|:----------------------------------|-------:|\n",
       "| Medicare Prescription Drug Plan   | 269153 |\n",
       "| HMO/HMOPOS                        |  36588 |\n",
       "| Local PPO                         |  16728 |\n",
       "| Regional PPO                      |   8531 |\n",
       "| 1876 Cost                         |   6329 |\n",
       "| PFFS                              |   4232 |\n",
       "| Medicare-Medicaid Plan HMO/HMOPOS |   4130 |\n",
       "| National PACE                     |   1216 |\n",
       "| MSA                               |    232 |"
      ],
      "text/plain": [
       "<IPython.core.display.Markdown object>"
      ]
     },
     "metadata": {},
     "output_type": "display_data"
    }
   ],
   "source": [
    "# Exluce SNP and EGHP plans, and plans between 800 and 899\n",
    "final_ma_data = full_ma_data[(full_ma_data['snp'] == \"No\") & (full_ma_data['eghp'] == \"No\") & ((full_ma_data['planid'] < 800) | (full_ma_data['planid'] >= 900))]\n",
    "plans_per_type = final_ma_data.pivot_table(index='plan_type', columns='year', values='planid', aggfunc='count')\n",
    "# Change the name of the index\n",
    "plans_per_type.index.name = 'Plan Type'\n",
    "# Sort values\n",
    "plans_per_type = plans_per_type.sort_values(by=2015, ascending=False)\n",
    "# Display the table\n",
    "display(Markdown(plans_per_type.to_markdown()))"
   ]
  },
  {
   "cell_type": "markdown",
   "metadata": {},
   "source": [
    "\\newpage\n",
    "\n",
    "**3. Provide a table of the average enrollments for each plan type in 2015.**"
   ]
  },
  {
   "cell_type": "code",
   "execution_count": 4,
   "metadata": {},
   "outputs": [
    {
     "data": {
      "text/markdown": [
       "| Plan Type                         |   2015 |\n",
       "|:----------------------------------|-------:|\n",
       "| HMO/HMOPOS                        |    849 |\n",
       "| Medicare-Medicaid Plan HMO/HMOPOS |    624 |\n",
       "| Medicare Prescription Drug Plan   |    312 |\n",
       "| Local PPO                         |    311 |\n",
       "| 1876 Cost                         |    228 |\n",
       "| Regional PPO                      |    202 |\n",
       "| National PACE                     |    140 |\n",
       "| PFFS                              |    125 |\n",
       "| MSA                               |    108 |"
      ],
      "text/plain": [
       "<IPython.core.display.Markdown object>"
      ]
     },
     "metadata": {},
     "output_type": "display_data"
    }
   ],
   "source": [
    "# Pivot table to get the average enrollment per plan type and year\n",
    "enrollment_per_type = final_ma_data.pivot_table(index='plan_type', columns='year', values='avg_enrollment', aggfunc='mean')\n",
    "# Change the name of the index\n",
    "enrollment_per_type.index.name = 'Plan Type'\n",
    "# Sort values and format\n",
    "enrollment_per_type = enrollment_per_type.round(0).astype('int').sort_values(by=2015, ascending=False)\n",
    "# Display the table\n",
    "display(Markdown(enrollment_per_type.to_markdown()))"
   ]
  },
  {
   "cell_type": "code",
   "execution_count": 7,
   "metadata": {},
   "outputs": [],
   "source": [
    "# jupyter nbconvert --to pdf --no-input --output estrada-i-hwk1-1.pdf \"Homework 1.ipynb\""
   ]
  }
 ],
 "metadata": {
  "kernelspec": {
   "display_name": "base",
   "language": "python",
   "name": "python3"
  },
  "language_info": {
   "codemirror_mode": {
    "name": "ipython",
    "version": 3
   },
   "file_extension": ".py",
   "mimetype": "text/x-python",
   "name": "python",
   "nbconvert_exporter": "python",
   "pygments_lexer": "ipython3",
   "version": "3.9.12"
  }
 },
 "nbformat": 4,
 "nbformat_minor": 2
}
